{
 "cells": [
  {
   "cell_type": "markdown",
   "metadata": {},
   "source": [
    "\\newpage\n",
    "\n",
    "# Introduction\n",
    "\n",
    "- This document contains additional material for the paper: *Network Thermodynamics of Biological Systems:\n",
    "A Bond Graph Approach* by Peter Gawthrop and Michael Pan.\n",
    "\n",
    "- It illustrates how the Python package [BondGraphTools](https://bondgraphtools.readthedocs.io/en/latest/) can be used to create and analyse chemical reaction networks.\n",
    "\n",
    "- It provides background to Section 3, Chemical Reactions.\n",
    "\n",
    "- This document is **Reactions.pdf** (see also **Chloroplast.pdf**).\n",
    "\n",
    "- The document is available as the Jupyter notebook **Reactions.ipynb**.\n",
    "\n",
    "- Code is available at [https://github.com/gawthrop/GawPan22](https://github.com/gawthrop/GawPan22)"
   ]
  },
  {
   "cell_type": "markdown",
   "metadata": {},
   "source": [
    "## Some useful imports"
   ]
  },
  {
   "cell_type": "code",
   "execution_count": 1,
   "metadata": {},
   "outputs": [],
   "source": [
    "## Some useful imports\n",
    "import BondGraphTools as bgt\n",
    "import numpy as np\n",
    "import sympy as sp\n",
    "import matplotlib.pyplot as plt\n",
    "\n",
    "## Stoichiometric analysis\n",
    "import stoich as st\n",
    "\n",
    "## SVG bg representation conversion\n",
    "import svgBondGraph as sbg\n",
    "\n",
    "## Modular bond graphs\n",
    "import modularBondGraph as mbg\n",
    "\n",
    "## Display (eg disp.SVG(), disp.\n",
    "import IPython.display as disp\n",
    "\n",
    "## Data\n",
    "import phiData\n",
    "import redoxData\n",
    "\n",
    "import importlib as imp\n",
    "\n",
    "## Some switches\n",
    "chemformula = True\n",
    "quiet = True"
   ]
  },
  {
   "cell_type": "markdown",
   "metadata": {},
   "source": [
    "# Basic reactions\n"
   ]
  },
  {
   "cell_type": "markdown",
   "metadata": {},
   "source": [
    "## A $\\Leftrightarrow$ B"
   ]
  },
  {
   "cell_type": "markdown",
   "metadata": {},
   "source": [
    "### Graphical bond graph representation"
   ]
  },
  {
   "cell_type": "code",
   "execution_count": 2,
   "metadata": {},
   "outputs": [
    {
     "data": {
      "image/svg+xml": [
       "<svg xmlns=\"http://www.w3.org/2000/svg\" xmlns:xlink=\"http://www.w3.org/1999/xlink\" width=\"343pt\" height=\"60pt\" viewBox=\"2453 2453 5444 944\">\n",
       "<g fill=\"none\">\n",
       "<!-- Line -->\n",
       "<rect x=\"2475\" y=\"2475\" width=\"5400\" height=\"900\" rx=\"105\" stroke=\"#ffd600\" stroke-width=\"15px\"/>\n",
       "<!-- Text -->\n",
       "<text xml:space=\"preserve\" x=\"3150\" y=\"3015\" fill=\"#000000\" font-family=\"Helvetica\" font-style=\"normal\" font-weight=\"bold\" font-size=\"216\" text-anchor=\"middle\">Ce:A</text>\n",
       "<!-- Text -->\n",
       "<text xml:space=\"preserve\" x=\"5175\" y=\"3015\" fill=\"#000000\" font-family=\"Helvetica\" font-style=\"normal\" font-weight=\"bold\" font-size=\"216\" text-anchor=\"middle\">Re:r</text>\n",
       "<!-- Text -->\n",
       "<text xml:space=\"preserve\" x=\"7200\" y=\"3015\" fill=\"#000000\" font-family=\"Helvetica\" font-style=\"normal\" font-weight=\"bold\" font-size=\"216\" text-anchor=\"middle\">Ce:B</text>\n",
       "<!-- Line -->\n",
       "<polyline points=\" 3600,2925 4725,2925 4500,3150\" stroke=\"#000000\" stroke-width=\"15px\"/>\n",
       "<!-- Line -->\n",
       "<polyline points=\" 5625,2925 6750,2925 6525,3150\" stroke=\"#000000\" stroke-width=\"15px\"/>\n",
       "</g>\n",
       "</svg>"
      ],
      "text/plain": [
       "<IPython.core.display.SVG object>"
      ]
     },
     "execution_count": 2,
     "metadata": {},
     "output_type": "execute_result"
    }
   ],
   "source": [
    "disp.SVG('ABbasic_abg.svg')"
   ]
  },
  {
   "cell_type": "markdown",
   "metadata": {},
   "source": [
    "### Convert graphical representation to BondGraphTools representation"
   ]
  },
  {
   "cell_type": "code",
   "execution_count": 3,
   "metadata": {},
   "outputs": [],
   "source": [
    "# imp.reload(sbg)\n",
    "sbg.model('ABbasic_abg.svg',quiet=quiet)\n",
    "import ABbasic_abg\n",
    "# imp.reload(ABbasic_abg)\n"
   ]
  },
  {
   "cell_type": "markdown",
   "metadata": {},
   "source": [
    "### Stoichiometric analysis and reactions"
   ]
  },
  {
   "cell_type": "code",
   "execution_count": 4,
   "metadata": {
    "scrolled": false
   },
   "outputs": [
    {
     "data": {
      "text/latex": [
       "\\begin{align}\n",
       "\\ch{A & <> [ r ] B }\n",
       "\\end{align}\n"
      ],
      "text/plain": [
       "<IPython.core.display.Latex object>"
      ]
     },
     "execution_count": 4,
     "metadata": {},
     "output_type": "execute_result"
    }
   ],
   "source": [
    "## Stoichiometry\n",
    "sABbasic = st.stoich(ABbasic_abg.model(),quiet=quiet)\n",
    "disp.Latex(st.sprintrl(sABbasic,chemformula=chemformula))"
   ]
  },
  {
   "cell_type": "markdown",
   "metadata": {},
   "source": [
    "# Reactions with connections"
   ]
  },
  {
   "cell_type": "markdown",
   "metadata": {},
   "source": [
    "## A + B $\\Leftrightarrow$ C + D"
   ]
  },
  {
   "cell_type": "markdown",
   "metadata": {},
   "source": [
    "### Graphical bond graph representation"
   ]
  },
  {
   "cell_type": "code",
   "execution_count": 5,
   "metadata": {
    "scrolled": true
   },
   "outputs": [
    {
     "data": {
      "image/svg+xml": [
       "<svg xmlns=\"http://www.w3.org/2000/svg\" xmlns:xlink=\"http://www.w3.org/1999/xlink\" width=\"485pt\" height=\"216pt\" viewBox=\"1328 1328 7694 3419\">\n",
       "<g fill=\"none\">\n",
       "<!-- Line -->\n",
       "<rect x=\"1350\" y=\"1350\" width=\"7650\" height=\"3375\" rx=\"105\" stroke=\"#ffd600\" stroke-width=\"15px\"/>\n",
       "<!-- Text -->\n",
       "<text xml:space=\"preserve\" x=\"3375\" y=\"3015\" fill=\"#000000\" font-family=\"Helvetica\" font-style=\"normal\" font-weight=\"bold\" font-size=\"216\" text-anchor=\"middle\">1</text>\n",
       "<!-- Text -->\n",
       "<text xml:space=\"preserve\" x=\"5175\" y=\"3015\" fill=\"#000000\" font-family=\"Helvetica\" font-style=\"normal\" font-weight=\"bold\" font-size=\"216\" text-anchor=\"middle\">Re:r</text>\n",
       "<!-- Text -->\n",
       "<text xml:space=\"preserve\" x=\"6975\" y=\"3015\" fill=\"#000000\" font-family=\"Helvetica\" font-style=\"normal\" font-weight=\"bold\" font-size=\"216\" text-anchor=\"middle\">1</text>\n",
       "<!-- Text -->\n",
       "<text xml:space=\"preserve\" x=\"1800\" y=\"4365\" fill=\"#000000\" font-family=\"Helvetica\" font-style=\"normal\" font-weight=\"bold\" font-size=\"216\" text-anchor=\"middle\">Ce:B</text>\n",
       "<!-- Text -->\n",
       "<text xml:space=\"preserve\" x=\"1800\" y=\"1665\" fill=\"#000000\" font-family=\"Helvetica\" font-style=\"normal\" font-weight=\"bold\" font-size=\"216\" text-anchor=\"middle\">Ce:A</text>\n",
       "<!-- Text -->\n",
       "<text xml:space=\"preserve\" x=\"8550\" y=\"4365\" fill=\"#000000\" font-family=\"Helvetica\" font-style=\"normal\" font-weight=\"bold\" font-size=\"216\" text-anchor=\"middle\">Ce:D</text>\n",
       "<!-- Text -->\n",
       "<text xml:space=\"preserve\" x=\"8550\" y=\"1665\" fill=\"#000000\" font-family=\"Helvetica\" font-style=\"normal\" font-weight=\"bold\" font-size=\"216\" text-anchor=\"middle\">Ce:C</text>\n",
       "<!-- Line -->\n",
       "<polyline points=\" 3600,2925 4725,2925 4500,3150\" stroke=\"#000000\" stroke-width=\"15px\"/>\n",
       "<!-- Line -->\n",
       "<polyline points=\" 5625,2925 6750,2925 6525,3150\" stroke=\"#000000\" stroke-width=\"15px\"/>\n",
       "<!-- Line -->\n",
       "<polyline points=\" 7200,2700 8100,1800 8100,2025\" stroke=\"#000000\" stroke-width=\"15px\"/>\n",
       "<!-- Line -->\n",
       "<polyline points=\" 7200,3150 8100,4050 7875,4050\" stroke=\"#000000\" stroke-width=\"15px\"/>\n",
       "<!-- Line -->\n",
       "<polyline points=\" 2250,1800 3150,2700 2925,2700\" stroke=\"#000000\" stroke-width=\"15px\"/>\n",
       "<!-- Line -->\n",
       "<polyline points=\" 2250,4050 3150,3150 3150,3375\" stroke=\"#000000\" stroke-width=\"15px\"/>\n",
       "</g>\n",
       "</svg>"
      ],
      "text/plain": [
       "<IPython.core.display.SVG object>"
      ]
     },
     "execution_count": 5,
     "metadata": {},
     "output_type": "execute_result"
    }
   ],
   "source": [
    "disp.SVG('ABCDbasic_abg.svg')"
   ]
  },
  {
   "cell_type": "markdown",
   "metadata": {},
   "source": [
    "### Convert graphical representation to BondGraphTools representation"
   ]
  },
  {
   "cell_type": "code",
   "execution_count": 6,
   "metadata": {},
   "outputs": [],
   "source": [
    "# imp.reload(sbg)\n",
    "sbg.model('ABCDbasic_abg.svg',quiet=quiet)\n",
    "import ABCDbasic_abg\n",
    "# imp.reload(ABCDbasic_abg)\n"
   ]
  },
  {
   "cell_type": "markdown",
   "metadata": {},
   "source": [
    "### Stoichiometric analysis and reactions"
   ]
  },
  {
   "cell_type": "code",
   "execution_count": 7,
   "metadata": {
    "scrolled": true
   },
   "outputs": [
    {
     "data": {
      "text/latex": [
       "\\begin{align}\n",
       "\\ch{A + B & <> [ r ] C + D }\n",
       "\\end{align}\n"
      ],
      "text/plain": [
       "<IPython.core.display.Latex object>"
      ]
     },
     "execution_count": 7,
     "metadata": {},
     "output_type": "execute_result"
    }
   ],
   "source": [
    "## Stoichiometry\n",
    "sABCDbasic = st.stoich(ABCDbasic_abg.model(),quiet=quiet)\n",
    "disp.Latex(st.sprintrl(sABCDbasic,chemformula=chemformula))"
   ]
  },
  {
   "cell_type": "markdown",
   "metadata": {},
   "source": [
    "## A $\\Leftrightarrow$ B $\\Leftrightarrow$ C"
   ]
  },
  {
   "cell_type": "markdown",
   "metadata": {},
   "source": [
    "### Graphical bond graph representation"
   ]
  },
  {
   "cell_type": "code",
   "execution_count": 8,
   "metadata": {
    "scrolled": true
   },
   "outputs": [
    {
     "data": {
      "image/svg+xml": [
       "<svg xmlns=\"http://www.w3.org/2000/svg\" xmlns:xlink=\"http://www.w3.org/1999/xlink\" width=\"584pt\" height=\"159pt\" viewBox=\"2228 878 9269 2519\">\n",
       "<g fill=\"none\">\n",
       "<!-- Line -->\n",
       "<rect x=\"2250\" y=\"900\" width=\"9225\" height=\"2475\" rx=\"105\" stroke=\"#ffd600\" stroke-width=\"15px\"/>\n",
       "<!-- Text -->\n",
       "<text xml:space=\"preserve\" x=\"3150\" y=\"3015\" fill=\"#000000\" font-family=\"Helvetica\" font-style=\"normal\" font-weight=\"bold\" font-size=\"216\" text-anchor=\"middle\">Ce:A</text>\n",
       "<!-- Text -->\n",
       "<text xml:space=\"preserve\" x=\"10800\" y=\"3015\" fill=\"#000000\" font-family=\"Helvetica\" font-style=\"normal\" font-weight=\"bold\" font-size=\"216\" text-anchor=\"middle\">Ce:C</text>\n",
       "<!-- Text -->\n",
       "<text xml:space=\"preserve\" x=\"6975\" y=\"1440\" fill=\"#000000\" font-family=\"Helvetica\" font-style=\"normal\" font-weight=\"bold\" font-size=\"216\" text-anchor=\"middle\">Ce:B</text>\n",
       "<!-- Text -->\n",
       "<text xml:space=\"preserve\" x=\"8775\" y=\"3015\" fill=\"#000000\" font-family=\"Helvetica\" font-style=\"normal\" font-weight=\"bold\" font-size=\"216\" text-anchor=\"middle\">Re:r2</text>\n",
       "<!-- Text -->\n",
       "<text xml:space=\"preserve\" x=\"5175\" y=\"3015\" fill=\"#000000\" font-family=\"Helvetica\" font-style=\"normal\" font-weight=\"bold\" font-size=\"216\" text-anchor=\"middle\">Re:r1</text>\n",
       "<!-- Text -->\n",
       "<text xml:space=\"preserve\" x=\"6975\" y=\"3015\" fill=\"#000000\" font-family=\"Helvetica\" font-style=\"normal\" font-weight=\"bold\" font-size=\"216\" text-anchor=\"middle\">0</text>\n",
       "<!-- Line -->\n",
       "<polyline points=\" 3600,2925 4725,2925 4500,3150\" stroke=\"#000000\" stroke-width=\"15px\"/>\n",
       "<!-- Line -->\n",
       "<polyline points=\" 5625,2925 6750,2925 6525,3150\" stroke=\"#000000\" stroke-width=\"15px\"/>\n",
       "<!-- Line -->\n",
       "<polyline points=\" 6975,2700 6975,1575 7200,1800\" stroke=\"#000000\" stroke-width=\"15px\"/>\n",
       "<!-- Line -->\n",
       "<polyline points=\" 7200,2925 8325,2925 8100,3150\" stroke=\"#000000\" stroke-width=\"15px\"/>\n",
       "<!-- Line -->\n",
       "<polyline points=\" 9225,2925 10350,2925 10125,3150\" stroke=\"#000000\" stroke-width=\"15px\"/>\n",
       "</g>\n",
       "</svg>"
      ],
      "text/plain": [
       "<IPython.core.display.SVG object>"
      ]
     },
     "execution_count": 8,
     "metadata": {},
     "output_type": "execute_result"
    }
   ],
   "source": [
    "disp.SVG('ABCbasic_abg.svg')"
   ]
  },
  {
   "cell_type": "markdown",
   "metadata": {},
   "source": [
    "### Convert graphical representation to BondGraphTools representation"
   ]
  },
  {
   "cell_type": "code",
   "execution_count": 9,
   "metadata": {},
   "outputs": [],
   "source": [
    "# imp.reload(sbg)\n",
    "sbg.model('ABCbasic_abg.svg',quiet=quiet)\n",
    "import ABCbasic_abg\n",
    "# imp.reload(ABCbasic_abg)\n"
   ]
  },
  {
   "cell_type": "markdown",
   "metadata": {},
   "source": [
    "### Stoichiometric analysis and reactions"
   ]
  },
  {
   "cell_type": "code",
   "execution_count": 10,
   "metadata": {
    "scrolled": false
   },
   "outputs": [
    {
     "data": {
      "text/latex": [
       "\\begin{align}\n",
       "\\ch{A & <> [ r1 ] B }\\\\\n",
       "\\ch{B & <> [ r2 ] C }\n",
       "\\end{align}\n"
      ],
      "text/plain": [
       "<IPython.core.display.Latex object>"
      ]
     },
     "execution_count": 10,
     "metadata": {},
     "output_type": "execute_result"
    }
   ],
   "source": [
    "## Stoichiometry\n",
    "sABCbasic = st.stoich(ABCbasic_abg.model(),quiet=quiet)\n",
    "disp.Latex(st.sprintrl(sABCbasic,chemformula=chemformula))"
   ]
  },
  {
   "cell_type": "markdown",
   "metadata": {},
   "source": [
    "# Multiple stoichiometry\n"
   ]
  },
  {
   "cell_type": "markdown",
   "metadata": {},
   "source": [
    "## A+2B $\\Leftrightarrow$ 3C+4D"
   ]
  },
  {
   "cell_type": "markdown",
   "metadata": {},
   "source": [
    "### Graphical bond graph representation"
   ]
  },
  {
   "cell_type": "code",
   "execution_count": 11,
   "metadata": {},
   "outputs": [
    {
     "data": {
      "image/svg+xml": [
       "<svg xmlns=\"http://www.w3.org/2000/svg\" xmlns:xlink=\"http://www.w3.org/1999/xlink\" width=\"485pt\" height=\"230pt\" viewBox=\"1328 1103 7694 3644\">\n",
       "<g fill=\"none\">\n",
       "<!-- Line -->\n",
       "<rect x=\"1350\" y=\"1125\" width=\"7650\" height=\"3600\" rx=\"180\" stroke=\"#ffd600\" stroke-width=\"15px\"/>\n",
       "<!-- Text -->\n",
       "<text xml:space=\"preserve\" x=\"3375\" y=\"3015\" fill=\"#000000\" font-family=\"Helvetica\" font-style=\"normal\" font-weight=\"bold\" font-size=\"216\" text-anchor=\"middle\">1</text>\n",
       "<!-- Text -->\n",
       "<text xml:space=\"preserve\" x=\"5175\" y=\"3015\" fill=\"#000000\" font-family=\"Helvetica\" font-style=\"normal\" font-weight=\"bold\" font-size=\"216\" text-anchor=\"middle\">Re:r</text>\n",
       "<!-- Text -->\n",
       "<text xml:space=\"preserve\" x=\"6975\" y=\"3015\" fill=\"#000000\" font-family=\"Helvetica\" font-style=\"normal\" font-weight=\"bold\" font-size=\"216\" text-anchor=\"middle\">1</text>\n",
       "<!-- Text -->\n",
       "<text xml:space=\"preserve\" x=\"1800\" y=\"4365\" fill=\"#000000\" font-family=\"Helvetica\" font-style=\"normal\" font-weight=\"bold\" font-size=\"216\" text-anchor=\"middle\">Ce:B</text>\n",
       "<!-- Text -->\n",
       "<text xml:space=\"preserve\" x=\"1800\" y=\"1665\" fill=\"#000000\" font-family=\"Helvetica\" font-style=\"normal\" font-weight=\"bold\" font-size=\"216\" text-anchor=\"middle\">Ce:A</text>\n",
       "<!-- Text -->\n",
       "<text xml:space=\"preserve\" x=\"8550\" y=\"4365\" fill=\"#000000\" font-family=\"Helvetica\" font-style=\"normal\" font-weight=\"bold\" font-size=\"216\" text-anchor=\"middle\">Ce:D</text>\n",
       "<!-- Text -->\n",
       "<text xml:space=\"preserve\" x=\"8550\" y=\"1665\" fill=\"#000000\" font-family=\"Helvetica\" font-style=\"normal\" font-weight=\"bold\" font-size=\"216\" text-anchor=\"middle\">Ce:C</text>\n",
       "<!-- Line -->\n",
       "<polyline points=\" 3600,2925 4725,2925 4500,3150\" stroke=\"#000000\" stroke-width=\"15px\"/>\n",
       "<!-- Line -->\n",
       "<polyline points=\" 5625,2925 6750,2925 6525,3150\" stroke=\"#000000\" stroke-width=\"15px\"/>\n",
       "<!-- Line -->\n",
       "<polyline points=\" 7200,2700 8100,1800 8100,2025\" stroke=\"#000000\" stroke-width=\"15px\"/>\n",
       "<!-- Line -->\n",
       "<polyline points=\" 7200,3150 8100,4050 7875,4050\" stroke=\"#000000\" stroke-width=\"15px\"/>\n",
       "<!-- Line -->\n",
       "<polyline points=\" 2250,1800 3150,2700 2925,2700\" stroke=\"#000000\" stroke-width=\"15px\"/>\n",
       "<!-- Line -->\n",
       "<polyline points=\" 2250,4050 3150,3150 3150,3375\" stroke=\"#000000\" stroke-width=\"15px\"/>\n",
       "<!-- Line -->\n",
       "<polyline points=\" 2047,4072 2947,3172 2947,3397\" stroke=\"#000000\" stroke-width=\"15px\"/>\n",
       "<!-- Line -->\n",
       "<polyline points=\" 6975,2655 7875,1755 7875,1980\" stroke=\"#000000\" stroke-width=\"15px\"/>\n",
       "<!-- Line -->\n",
       "<polyline points=\" 7380,2745 8280,1845 8280,2070\" stroke=\"#000000\" stroke-width=\"15px\"/>\n",
       "<!-- Line -->\n",
       "<polyline points=\" 7042,3307 7942,4207 7717,4207\" stroke=\"#000000\" stroke-width=\"15px\"/>\n",
       "<!-- Line -->\n",
       "<polyline points=\" 7402,3037 8302,3937 8077,3937\" stroke=\"#000000\" stroke-width=\"15px\"/>\n",
       "<!-- Line -->\n",
       "<polyline points=\" 7582,2902 8482,3802 8257,3802\" stroke=\"#000000\" stroke-width=\"15px\"/>\n",
       "</g>\n",
       "</svg>"
      ],
      "text/plain": [
       "<IPython.core.display.SVG object>"
      ]
     },
     "execution_count": 11,
     "metadata": {},
     "output_type": "execute_result"
    }
   ],
   "source": [
    "disp.SVG('ABCDmult_abg.svg')"
   ]
  },
  {
   "cell_type": "markdown",
   "metadata": {},
   "source": [
    "### Convert graphical representation to BondGraphTools representation"
   ]
  },
  {
   "cell_type": "code",
   "execution_count": 12,
   "metadata": {},
   "outputs": [],
   "source": [
    "# imp.reload(sbg)\n",
    "sbg.model('ABCDmult_abg.svg',convertCe=True,quiet=quiet)\n",
    "import ABCDmult_abg\n",
    "# imp.reload(ABCDmult_abg)\n"
   ]
  },
  {
   "cell_type": "markdown",
   "metadata": {},
   "source": [
    "### Stoichiometric analysis and reactions"
   ]
  },
  {
   "cell_type": "code",
   "execution_count": 13,
   "metadata": {
    "scrolled": true
   },
   "outputs": [
    {
     "data": {
      "text/latex": [
       "\\begin{align}\n",
       "\\ch{A + 2 B & <> [ r ] 3 C + 4 D }\n",
       "\\end{align}\n"
      ],
      "text/plain": [
       "<IPython.core.display.Latex object>"
      ]
     },
     "execution_count": 13,
     "metadata": {},
     "output_type": "execute_result"
    }
   ],
   "source": [
    "## Stoichiometry\n",
    "sABCDmult = st.stoich(ABCDmult_abg.model(),quiet=quiet)\n",
    "disp.Latex(st.sprintrl(sABCDmult,chemformula=chemformula))"
   ]
  },
  {
   "cell_type": "markdown",
   "metadata": {},
   "source": [
    "# One-port Re component\n"
   ]
  },
  {
   "cell_type": "markdown",
   "metadata": {},
   "source": [
    "## A+2B $\\Leftrightarrow$ 3C+4D"
   ]
  },
  {
   "cell_type": "markdown",
   "metadata": {},
   "source": [
    "### Graphical bond graph representation"
   ]
  },
  {
   "cell_type": "code",
   "execution_count": 14,
   "metadata": {},
   "outputs": [
    {
     "data": {
      "image/svg+xml": [
       "<svg xmlns=\"http://www.w3.org/2000/svg\" xmlns:xlink=\"http://www.w3.org/1999/xlink\" width=\"273pt\" height=\"230pt\" viewBox=\"1328 1103 4319 3644\">\n",
       "<g fill=\"none\">\n",
       "<!-- Line -->\n",
       "<rect x=\"1350\" y=\"1125\" width=\"4275\" height=\"3600\" rx=\"180\" stroke=\"#ffd600\" stroke-width=\"15px\"/>\n",
       "<!-- Text -->\n",
       "<text xml:space=\"preserve\" x=\"3375\" y=\"1665\" fill=\"#000000\" font-family=\"Helvetica\" font-style=\"normal\" font-weight=\"bold\" font-size=\"216\" text-anchor=\"middle\">Re:r</text>\n",
       "<!-- Text -->\n",
       "<text xml:space=\"preserve\" x=\"5175\" y=\"4365\" fill=\"#000000\" font-family=\"Helvetica\" font-style=\"normal\" font-weight=\"bold\" font-size=\"216\" text-anchor=\"middle\">Ce:D</text>\n",
       "<!-- Text -->\n",
       "<text xml:space=\"preserve\" x=\"5175\" y=\"1665\" fill=\"#000000\" font-family=\"Helvetica\" font-style=\"normal\" font-weight=\"bold\" font-size=\"216\" text-anchor=\"middle\">Ce:C</text>\n",
       "<!-- Text -->\n",
       "<text xml:space=\"preserve\" x=\"3375\" y=\"3015\" fill=\"#000000\" font-family=\"Helvetica\" font-style=\"normal\" font-weight=\"bold\" font-size=\"216\" text-anchor=\"middle\">1</text>\n",
       "<!-- Text -->\n",
       "<text xml:space=\"preserve\" x=\"1800\" y=\"4365\" fill=\"#000000\" font-family=\"Helvetica\" font-style=\"normal\" font-weight=\"bold\" font-size=\"216\" text-anchor=\"middle\">Ce:B</text>\n",
       "<!-- Text -->\n",
       "<text xml:space=\"preserve\" x=\"1800\" y=\"1665\" fill=\"#000000\" font-family=\"Helvetica\" font-style=\"normal\" font-weight=\"bold\" font-size=\"216\" text-anchor=\"middle\">Ce:A</text>\n",
       "<!-- Line -->\n",
       "<polyline points=\" 3375,2700 3375,1800 3600,2025\" stroke=\"#000000\" stroke-width=\"15px\"/>\n",
       "<!-- Line -->\n",
       "<polyline points=\" 3825,2700 4725,1800 4725,2025\" stroke=\"#000000\" stroke-width=\"15px\"/>\n",
       "<!-- Line -->\n",
       "<polyline points=\" 3825,3150 4725,4050 4500,4050\" stroke=\"#000000\" stroke-width=\"15px\"/>\n",
       "<!-- Line -->\n",
       "<polyline points=\" 3600,2655 4500,1755 4500,1980\" stroke=\"#000000\" stroke-width=\"15px\"/>\n",
       "<!-- Line -->\n",
       "<polyline points=\" 4005,2745 4905,1845 4905,2070\" stroke=\"#000000\" stroke-width=\"15px\"/>\n",
       "<!-- Line -->\n",
       "<polyline points=\" 3667,3307 4567,4207 4342,4207\" stroke=\"#000000\" stroke-width=\"15px\"/>\n",
       "<!-- Line -->\n",
       "<polyline points=\" 4027,3037 4927,3937 4702,3937\" stroke=\"#000000\" stroke-width=\"15px\"/>\n",
       "<!-- Line -->\n",
       "<polyline points=\" 4207,2902 5107,3802 4882,3802\" stroke=\"#000000\" stroke-width=\"15px\"/>\n",
       "<!-- Line -->\n",
       "<polyline points=\" 2250,1800 3150,2700 2925,2700\" stroke=\"#000000\" stroke-width=\"15px\"/>\n",
       "<!-- Line -->\n",
       "<polyline points=\" 2250,4050 3150,3150 3150,3375\" stroke=\"#000000\" stroke-width=\"15px\"/>\n",
       "<!-- Line -->\n",
       "<polyline points=\" 2047,4072 2947,3172 2947,3397\" stroke=\"#000000\" stroke-width=\"15px\"/>\n",
       "</g>\n",
       "</svg>"
      ],
      "text/plain": [
       "<IPython.core.display.SVG object>"
      ]
     },
     "execution_count": 14,
     "metadata": {},
     "output_type": "execute_result"
    }
   ],
   "source": [
    "disp.SVG('ABCDone_abg.svg')"
   ]
  },
  {
   "cell_type": "markdown",
   "metadata": {},
   "source": [
    "### Convert graphical representation to BondGraphTools representation"
   ]
  },
  {
   "cell_type": "code",
   "execution_count": 15,
   "metadata": {},
   "outputs": [],
   "source": [
    "# imp.reload(sbg)\n",
    "sbg.model('ABCDone_abg.svg',convertCe=True,convertR=True,quiet=quiet)\n",
    "import ABCDone_abg\n",
    "# imp.reload(ABCDone_abg)\n"
   ]
  },
  {
   "cell_type": "markdown",
   "metadata": {},
   "source": [
    "### Stoichiometric analysis and reactions"
   ]
  },
  {
   "cell_type": "code",
   "execution_count": 16,
   "metadata": {
    "scrolled": true
   },
   "outputs": [
    {
     "data": {
      "text/latex": [
       "\\begin{align}\n",
       "\\ch{A + 2 B & <> [ r ] 3 C + 4 D }\n",
       "\\end{align}\n"
      ],
      "text/plain": [
       "<IPython.core.display.Latex object>"
      ]
     },
     "execution_count": 16,
     "metadata": {},
     "output_type": "execute_result"
    }
   ],
   "source": [
    "## Stoichiometry\n",
    "sABCDone = st.stoich(ABCDone_abg.model(),quiet=quiet)\n",
    "disp.Latex(st.sprintrl(sABCDone,chemformula=chemformula))"
   ]
  }
 ],
 "metadata": {
  "kernelspec": {
   "display_name": "Python 3",
   "language": "python",
   "name": "python3"
  },
  "language_info": {
   "codemirror_mode": {
    "name": "ipython",
    "version": 3
   },
   "file_extension": ".py",
   "mimetype": "text/x-python",
   "name": "python",
   "nbconvert_exporter": "python",
   "pygments_lexer": "ipython3",
   "version": "3.8.10"
  },
  "toc": {
   "base_numbering": 1,
   "nav_menu": {},
   "number_sections": true,
   "sideBar": true,
   "skip_h1_title": false,
   "title_cell": "Table of Contents",
   "title_sidebar": "Contents",
   "toc_cell": false,
   "toc_position": {},
   "toc_section_display": true,
   "toc_window_display": false
  }
 },
 "nbformat": 4,
 "nbformat_minor": 2
}
